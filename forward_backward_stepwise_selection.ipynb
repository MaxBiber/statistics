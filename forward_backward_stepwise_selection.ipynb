{
 "cells": [
  {
   "cell_type": "code",
   "execution_count": 12,
   "metadata": {},
   "outputs": [],
   "source": [
    "import numpy as np\n",
    "\n",
    "# Set the seed for reproducibility (optional)\n",
    "np.random.seed(42)\n",
    "\n",
    "# Length of the vectors\n",
    "n = 100\n",
    "\n",
    "# Generate the predictor X\n",
    "x = np.random.randn(100, 1)\n",
    "\n",
    "# Generate the noise vector eps\n",
    "eps = np.random.randn(100, 1)"
   ]
  },
  {
   "cell_type": "code",
   "execution_count": 13,
   "metadata": {},
   "outputs": [],
   "source": [
    "betas = [5, -10, 3, 14]\n",
    "\n",
    "y = betas[0] + betas[1] * x + betas[2] * (x**2) + betas[3] * (x**3) + eps"
   ]
  },
  {
   "cell_type": "code",
   "execution_count": 15,
   "metadata": {},
   "outputs": [
    {
     "data": {
      "text/html": [
       "<div>\n",
       "<style scoped>\n",
       "    .dataframe tbody tr th:only-of-type {\n",
       "        vertical-align: middle;\n",
       "    }\n",
       "\n",
       "    .dataframe tbody tr th {\n",
       "        vertical-align: top;\n",
       "    }\n",
       "\n",
       "    .dataframe thead th {\n",
       "        text-align: right;\n",
       "    }\n",
       "</style>\n",
       "<table border=\"1\" class=\"dataframe\">\n",
       "  <thead>\n",
       "    <tr style=\"text-align: right;\">\n",
       "      <th></th>\n",
       "      <th>x1</th>\n",
       "      <th>x2</th>\n",
       "      <th>x3</th>\n",
       "      <th>x4</th>\n",
       "      <th>x5</th>\n",
       "      <th>x6</th>\n",
       "      <th>x7</th>\n",
       "      <th>x8</th>\n",
       "      <th>x9</th>\n",
       "      <th>x10</th>\n",
       "      <th>y</th>\n",
       "    </tr>\n",
       "  </thead>\n",
       "  <tbody>\n",
       "    <tr>\n",
       "      <th>0</th>\n",
       "      <td>0.496714</td>\n",
       "      <td>0.246725</td>\n",
       "      <td>0.122552</td>\n",
       "      <td>0.060873</td>\n",
       "      <td>0.030237</td>\n",
       "      <td>0.015019</td>\n",
       "      <td>7.460119e-03</td>\n",
       "      <td>3.705547e-03</td>\n",
       "      <td>1.840597e-03</td>\n",
       "      <td>9.142508e-04</td>\n",
       "      <td>1.073387</td>\n",
       "    </tr>\n",
       "    <tr>\n",
       "      <th>1</th>\n",
       "      <td>-0.138264</td>\n",
       "      <td>0.019117</td>\n",
       "      <td>-0.002643</td>\n",
       "      <td>0.000365</td>\n",
       "      <td>-0.000051</td>\n",
       "      <td>0.000007</td>\n",
       "      <td>-9.659851e-07</td>\n",
       "      <td>1.335613e-07</td>\n",
       "      <td>-1.846675e-08</td>\n",
       "      <td>2.553293e-09</td>\n",
       "      <td>5.982344</td>\n",
       "    </tr>\n",
       "    <tr>\n",
       "      <th>2</th>\n",
       "      <td>0.647689</td>\n",
       "      <td>0.419500</td>\n",
       "      <td>0.271706</td>\n",
       "      <td>0.175981</td>\n",
       "      <td>0.113981</td>\n",
       "      <td>0.073824</td>\n",
       "      <td>4.781493e-02</td>\n",
       "      <td>3.096918e-02</td>\n",
       "      <td>2.005838e-02</td>\n",
       "      <td>1.299158e-02</td>\n",
       "      <td>3.242780</td>\n",
       "    </tr>\n",
       "    <tr>\n",
       "      <th>3</th>\n",
       "      <td>1.523030</td>\n",
       "      <td>2.319620</td>\n",
       "      <td>3.532850</td>\n",
       "      <td>5.380637</td>\n",
       "      <td>8.194870</td>\n",
       "      <td>12.481032</td>\n",
       "      <td>1.900898e+01</td>\n",
       "      <td>2.895125e+01</td>\n",
       "      <td>4.409362e+01</td>\n",
       "      <td>6.715590e+01</td>\n",
       "      <td>45.386190</td>\n",
       "    </tr>\n",
       "    <tr>\n",
       "      <th>4</th>\n",
       "      <td>-0.234153</td>\n",
       "      <td>0.054828</td>\n",
       "      <td>-0.012838</td>\n",
       "      <td>0.003006</td>\n",
       "      <td>-0.000704</td>\n",
       "      <td>0.000165</td>\n",
       "      <td>-3.859250e-05</td>\n",
       "      <td>9.036565e-06</td>\n",
       "      <td>-2.115942e-06</td>\n",
       "      <td>4.954550e-07</td>\n",
       "      <td>7.164998</td>\n",
       "    </tr>\n",
       "  </tbody>\n",
       "</table>\n",
       "</div>"
      ],
      "text/plain": [
       "         x1        x2        x3        x4        x5         x6            x7  \\\n",
       "0  0.496714  0.246725  0.122552  0.060873  0.030237   0.015019  7.460119e-03   \n",
       "1 -0.138264  0.019117 -0.002643  0.000365 -0.000051   0.000007 -9.659851e-07   \n",
       "2  0.647689  0.419500  0.271706  0.175981  0.113981   0.073824  4.781493e-02   \n",
       "3  1.523030  2.319620  3.532850  5.380637  8.194870  12.481032  1.900898e+01   \n",
       "4 -0.234153  0.054828 -0.012838  0.003006 -0.000704   0.000165 -3.859250e-05   \n",
       "\n",
       "             x8            x9           x10          y  \n",
       "0  3.705547e-03  1.840597e-03  9.142508e-04   1.073387  \n",
       "1  1.335613e-07 -1.846675e-08  2.553293e-09   5.982344  \n",
       "2  3.096918e-02  2.005838e-02  1.299158e-02   3.242780  \n",
       "3  2.895125e+01  4.409362e+01  6.715590e+01  45.386190  \n",
       "4  9.036565e-06 -2.115942e-06  4.954550e-07   7.164998  "
      ]
     },
     "execution_count": 15,
     "metadata": {},
     "output_type": "execute_result"
    }
   ],
   "source": [
    "from sklearn.preprocessing import PolynomialFeatures\n",
    "import pandas as pd\n",
    "\n",
    "poly = PolynomialFeatures(degree=10, include_bias=False)\n",
    "X_poly = poly.fit_transform(x)\n",
    "\n",
    "cols = ['x'+str(i) for i in range(1, 11)] + ['y']\n",
    "X_df = pd.DataFrame(np.concatenate((X_poly,y), axis=1), columns=cols)\n",
    "X_df.head()"
   ]
  },
  {
   "cell_type": "code",
   "execution_count": 24,
   "metadata": {},
   "outputs": [],
   "source": [
    "import statsmodels.api as sm\n",
    "from itertools import combinations\n",
    "from tqdm import tqdm\n",
    "\n",
    "def process_linear_model(subset, data, response):\n",
    "    x_train = sm.add_constant(data[subset])\n",
    "    model = sm.OLS(response, x_train).fit()\n",
    "    train_RSS = model.ssr\n",
    "    return (model, train_RSS)\n",
    "\n",
    "def find_best_subset(data, response, max_features, operation):\n",
    "    best_sub_list = []\n",
    "    best_model = []\n",
    "    num_of_features = []\n",
    "    \n",
    "    for k in tqdm(range(1, max_features+1)):\n",
    "        best_rss = np.inf\n",
    "        best_kth_model = None\n",
    "        \n",
    "        subsets = combinations(data.columns, k)\n",
    "        \n",
    "        for subset in subsets:\n",
    "            result = process_linear_model(list(subset), data, response)\n",
    "            if result[1] < best_rss:\n",
    "                best_rss = result[1]\n",
    "                best_subset = list(subset)\n",
    "                best_kth_model = result[0]\n",
    "                \n",
    "        num_of_features.append(k)\n",
    "        best_sub_list.append(best_subset)\n",
    "        best_model.append(best_kth_model)\n",
    "            \n",
    "    results = pd.DataFrame({'sub': best_sub_list, 'model': best_model})\n",
    "    results.to_pickle(f'{operation}.pkl')\n",
    "    return results"
   ]
  },
  {
   "cell_type": "code",
   "execution_count": 25,
   "metadata": {},
   "outputs": [
    {
     "name": "stderr",
     "output_type": "stream",
     "text": [
      "100%|██████████| 10/10 [00:06<00:00,  1.63it/s]\n"
     ]
    }
   ],
   "source": [
    "X = X_df.drop(['y'], axis=1)\n",
    "y = X_df.y\n",
    "\n",
    "bestsub_results = find_best_subset(X, y, 10, 'poly_bestsub')"
   ]
  },
  {
   "cell_type": "code",
   "execution_count": 26,
   "metadata": {},
   "outputs": [
    {
     "data": {
      "text/html": [
       "<div>\n",
       "<style scoped>\n",
       "    .dataframe tbody tr th:only-of-type {\n",
       "        vertical-align: middle;\n",
       "    }\n",
       "\n",
       "    .dataframe tbody tr th {\n",
       "        vertical-align: top;\n",
       "    }\n",
       "\n",
       "    .dataframe thead th {\n",
       "        text-align: right;\n",
       "    }\n",
       "</style>\n",
       "<table border=\"1\" class=\"dataframe\">\n",
       "  <thead>\n",
       "    <tr style=\"text-align: right;\">\n",
       "      <th></th>\n",
       "      <th>sub</th>\n",
       "      <th>model</th>\n",
       "    </tr>\n",
       "  </thead>\n",
       "  <tbody>\n",
       "    <tr>\n",
       "      <th>0</th>\n",
       "      <td>[x3]</td>\n",
       "      <td>&lt;statsmodels.regression.linear_model.Regressio...</td>\n",
       "    </tr>\n",
       "    <tr>\n",
       "      <th>1</th>\n",
       "      <td>[x1, x3]</td>\n",
       "      <td>&lt;statsmodels.regression.linear_model.Regressio...</td>\n",
       "    </tr>\n",
       "    <tr>\n",
       "      <th>2</th>\n",
       "      <td>[x1, x2, x3]</td>\n",
       "      <td>&lt;statsmodels.regression.linear_model.Regressio...</td>\n",
       "    </tr>\n",
       "    <tr>\n",
       "      <th>3</th>\n",
       "      <td>[x1, x2, x3, x10]</td>\n",
       "      <td>&lt;statsmodels.regression.linear_model.Regressio...</td>\n",
       "    </tr>\n",
       "    <tr>\n",
       "      <th>4</th>\n",
       "      <td>[x1, x2, x3, x7, x9]</td>\n",
       "      <td>&lt;statsmodels.regression.linear_model.Regressio...</td>\n",
       "    </tr>\n",
       "    <tr>\n",
       "      <th>5</th>\n",
       "      <td>[x1, x2, x3, x6, x8, x10]</td>\n",
       "      <td>&lt;statsmodels.regression.linear_model.Regressio...</td>\n",
       "    </tr>\n",
       "    <tr>\n",
       "      <th>6</th>\n",
       "      <td>[x1, x2, x3, x4, x6, x8, x10]</td>\n",
       "      <td>&lt;statsmodels.regression.linear_model.Regressio...</td>\n",
       "    </tr>\n",
       "    <tr>\n",
       "      <th>7</th>\n",
       "      <td>[x1, x2, x3, x4, x5, x6, x8, x10]</td>\n",
       "      <td>&lt;statsmodels.regression.linear_model.Regressio...</td>\n",
       "    </tr>\n",
       "    <tr>\n",
       "      <th>8</th>\n",
       "      <td>[x1, x2, x3, x4, x5, x6, x7, x8, x10]</td>\n",
       "      <td>&lt;statsmodels.regression.linear_model.Regressio...</td>\n",
       "    </tr>\n",
       "    <tr>\n",
       "      <th>9</th>\n",
       "      <td>[x1, x2, x3, x4, x5, x6, x7, x8, x9, x10]</td>\n",
       "      <td>&lt;statsmodels.regression.linear_model.Regressio...</td>\n",
       "    </tr>\n",
       "  </tbody>\n",
       "</table>\n",
       "</div>"
      ],
      "text/plain": [
       "                                         sub  \\\n",
       "0                                       [x3]   \n",
       "1                                   [x1, x3]   \n",
       "2                               [x1, x2, x3]   \n",
       "3                          [x1, x2, x3, x10]   \n",
       "4                       [x1, x2, x3, x7, x9]   \n",
       "5                  [x1, x2, x3, x6, x8, x10]   \n",
       "6              [x1, x2, x3, x4, x6, x8, x10]   \n",
       "7          [x1, x2, x3, x4, x5, x6, x8, x10]   \n",
       "8      [x1, x2, x3, x4, x5, x6, x7, x8, x10]   \n",
       "9  [x1, x2, x3, x4, x5, x6, x7, x8, x9, x10]   \n",
       "\n",
       "                                               model  \n",
       "0  <statsmodels.regression.linear_model.Regressio...  \n",
       "1  <statsmodels.regression.linear_model.Regressio...  \n",
       "2  <statsmodels.regression.linear_model.Regressio...  \n",
       "3  <statsmodels.regression.linear_model.Regressio...  \n",
       "4  <statsmodels.regression.linear_model.Regressio...  \n",
       "5  <statsmodels.regression.linear_model.Regressio...  \n",
       "6  <statsmodels.regression.linear_model.Regressio...  \n",
       "7  <statsmodels.regression.linear_model.Regressio...  \n",
       "8  <statsmodels.regression.linear_model.Regressio...  \n",
       "9  <statsmodels.regression.linear_model.Regressio...  "
      ]
     },
     "execution_count": 26,
     "metadata": {},
     "output_type": "execute_result"
    }
   ],
   "source": [
    "# best subset selection results\n",
    "bestsub_results"
   ]
  },
  {
   "cell_type": "code",
   "execution_count": 27,
   "metadata": {},
   "outputs": [],
   "source": [
    "aic = [bestsub_results.model[i].aic for i in range(0, len(bestsub_results.model))]\n",
    "bic = [bestsub_results.model[i].bic for i in range(0, len(bestsub_results.model))]\n",
    "r2_adj = [bestsub_results.model[i].rsquared_adj for i in range(0, len(bestsub_results.model))]\n",
    "rss = [bestsub_results.model[i].ssr for i in range(0, len(bestsub_results.model))]"
   ]
  },
  {
   "cell_type": "code",
   "execution_count": 29,
   "metadata": {},
   "outputs": [
    {
     "data": {
      "text/plain": [
       "[<matplotlib.axis.XTick at 0x1b7207146a0>,\n",
       " <matplotlib.axis.XTick at 0x1b720714670>,\n",
       " <matplotlib.axis.XTick at 0x1b720714160>,\n",
       " <matplotlib.axis.XTick at 0x1b7207adfa0>,\n",
       " <matplotlib.axis.XTick at 0x1b7207b4a90>,\n",
       " <matplotlib.axis.XTick at 0x1b720790ee0>,\n",
       " <matplotlib.axis.XTick at 0x1b7207bf3d0>,\n",
       " <matplotlib.axis.XTick at 0x1b7207bfe80>,\n",
       " <matplotlib.axis.XTick at 0x1b7207bd970>,\n",
       " <matplotlib.axis.XTick at 0x1b7207bdfd0>]"
      ]
     },
     "execution_count": 29,
     "metadata": {},
     "output_type": "execute_result"
    },
    {
     "data": {
      "image/png": "[encoded data removed]",
      "text/plain": [
       "<Figure size 1000x1000 with 4 Axes>"
      ]
     },
     "metadata": {},
     "output_type": "display_data"
    }
   ],
   "source": [
    "import matplotlib.pyplot as plt\n",
    "\n",
    "fig, axes = plt.subplots(2, 2, sharex=False, sharey=False)\n",
    "fig.set_figheight(10)\n",
    "fig.set_figwidth(10)\n",
    "fig.supxlabel('Num of Features')\n",
    "\n",
    "axes[0, 0].plot(rss)\n",
    "axes[0, 0].set_title('RSS')\n",
    "axes[0, 0].set_xticks(np.arange(0, 10, 1))\n",
    "\n",
    "axes[0, 1].plot(r2_adj, markevery=[np.argmax(r2_adj)], marker='D')\n",
    "axes[0, 1].set_title('Adj R Squared')\n",
    "axes[0, 1].set_xticks(np.arange(0, 10, 1))\n",
    "\n",
    "axes[1, 0].plot(aic, markevery=[np.argmin(aic)], marker='D')\n",
    "axes[1, 0].set_title('AIC')\n",
    "axes[1, 0].set_xticks(np.arange(0, 10, 1))\n",
    "\n",
    "axes[1, 1].plot(bic, markevery=[np.argmin(bic)], marker='D')\n",
    "axes[1, 1].set_title('BIC')\n",
    "axes[1, 1].set_xticks(np.arange(0, 10, 1))"
   ]
  },
  {
   "cell_type": "markdown",
   "metadata": {},
   "source": [
    "The best model obtained:\n",
    "\n",
    "According to:\n",
    "\n",
    "- BIC => 2-variable model [x1, x3]\n",
    "- Adjusted R2 => 6-variable model [x1, x2, x3, x6, x8, x10]\n",
    "- AIC => 3-variable model [x1, x2, x3]"
   ]
  },
  {
   "cell_type": "code",
   "execution_count": 31,
   "metadata": {},
   "outputs": [
    {
     "data": {
      "text/plain": [
       "const     7.211349\n",
       "x1       -8.324242\n",
       "x3       12.786700\n",
       "dtype: float64"
      ]
     },
     "execution_count": 31,
     "metadata": {},
     "output_type": "execute_result"
    }
   ],
   "source": [
    "# Coefficient estimates for best model obtained acc.to BIC\n",
    "bestsub_results.model[1].params"
   ]
  },
  {
   "cell_type": "code",
   "execution_count": 32,
   "metadata": {},
   "outputs": [
    {
     "data": {
      "text/plain": [
       "const     4.729329\n",
       "x1      -10.047974\n",
       "x2        3.780139\n",
       "x3       13.999950\n",
       "x6       -0.381452\n",
       "x8        0.143770\n",
       "x10      -0.013174\n",
       "dtype: float64"
      ]
     },
     "execution_count": 32,
     "metadata": {},
     "output_type": "execute_result"
    }
   ],
   "source": [
    "# Coefficient estimates for best model obtained acc.to Adjusted R2\n",
    "bestsub_results.model[5].params"
   ]
  },
  {
   "cell_type": "code",
   "execution_count": 33,
   "metadata": {},
   "outputs": [
    {
     "data": {
      "text/plain": [
       "const     4.847927\n",
       "x1      -10.135707\n",
       "x2        3.206938\n",
       "x3       14.028366\n",
       "dtype: float64"
      ]
     },
     "execution_count": 33,
     "metadata": {},
     "output_type": "execute_result"
    }
   ],
   "source": [
    "# Coefficient estimates for best model obtained acc.to AIC\n",
    "bestsub_results.model[2].params"
   ]
  }
 ],
 "metadata": {
  "kernelspec": {
   "display_name": "Python 3",
   "language": "python",
   "name": "python3"
  },
  "language_info": {
   "codemirror_mode": {
    "name": "ipython",
    "version": 3
   },
   "file_extension": ".py",
   "mimetype": "text/x-python",
   "name": "python",
   "nbconvert_exporter": "python",
   "pygments_lexer": "ipython3",
   "version": "3.8.20"
  }
 },
 "nbformat": 4,
 "nbformat_minor": 2
}
