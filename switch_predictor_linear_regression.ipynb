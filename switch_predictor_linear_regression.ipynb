{
 "cells": [
  {
   "cell_type": "code",
   "execution_count": 1,
   "metadata": {},
   "outputs": [
    {
     "data": {
      "text/plain": [
       "<matplotlib.lines.Line2D at 0x1a8b2413fd0>"
      ]
     },
     "execution_count": 1,
     "metadata": {},
     "output_type": "execute_result"
    },
    {
     "data": {
      "image/png": "[encoded data removed]",
      "text/plain": [
       "<Figure size 640x480 with 1 Axes>"
      ]
     },
     "metadata": {},
     "output_type": "display_data"
    }
   ],
   "source": [
    "%matplotlib inline\n",
    "import numpy as np\n",
    "import pandas as pd\n",
    "import matplotlib.pyplot as plt\n",
    "import seaborn as sns\n",
    "\n",
    "np.random.seed(1)\n",
    "rng = np.random.default_rng (1)\n",
    "x = rng.normal(size =100)\n",
    "y = 2 * x + rng.normal(size =100)\n",
    "df = pd.DataFrame({'x': x, 'y': y})\n",
    "\n",
    "fig, ax = plt.subplots()\n",
    "sns.regplot(x='x', y='y', data=df, scatter_kws={\"s\": 50, \"alpha\": 1}, ax=ax)\n",
    "ax.axhline(color='gray')\n",
    "ax.axvline(color='gray')"
   ]
  },
  {
   "cell_type": "code",
   "execution_count": 2,
   "metadata": {},
   "outputs": [
    {
     "data": {
      "text/html": [
       "<table class=\"simpletable\">\n",
       "<caption>OLS Regression Results</caption>\n",
       "<tr>\n",
       "  <th>Dep. Variable:</th>            <td>y</td>        <th>  R-squared (uncentered):</th>      <td>   0.743</td>\n",
       "</tr>\n",
       "<tr>\n",
       "  <th>Model:</th>                   <td>OLS</td>       <th>  Adj. R-squared (uncentered):</th> <td>   0.740</td>\n",
       "</tr>\n",
       "<tr>\n",
       "  <th>Method:</th>             <td>Least Squares</td>  <th>  F-statistic:       </th>          <td>   285.6</td>\n",
       "</tr>\n",
       "<tr>\n",
       "  <th>Date:</th>             <td>Tue, 26 Nov 2024</td> <th>  Prob (F-statistic):</th>          <td>6.23e-31</td>\n",
       "</tr>\n",
       "<tr>\n",
       "  <th>Time:</th>                 <td>16:51:47</td>     <th>  Log-Likelihood:    </th>          <td> -141.35</td>\n",
       "</tr>\n",
       "<tr>\n",
       "  <th>No. Observations:</th>      <td>   100</td>      <th>  AIC:               </th>          <td>   284.7</td>\n",
       "</tr>\n",
       "<tr>\n",
       "  <th>Df Residuals:</th>          <td>    99</td>      <th>  BIC:               </th>          <td>   287.3</td>\n",
       "</tr>\n",
       "<tr>\n",
       "  <th>Df Model:</th>              <td>     1</td>      <th>                     </th>              <td> </td>   \n",
       "</tr>\n",
       "<tr>\n",
       "  <th>Covariance Type:</th>      <td>nonrobust</td>    <th>                     </th>              <td> </td>   \n",
       "</tr>\n",
       "</table>\n",
       "<table class=\"simpletable\">\n",
       "<tr>\n",
       "  <td></td>     <th>coef</th>     <th>std err</th>      <th>t</th>      <th>P>|t|</th>  <th>[0.025</th>    <th>0.975]</th>  \n",
       "</tr>\n",
       "<tr>\n",
       "  <th>x</th> <td>    1.9762</td> <td>    0.117</td> <td>   16.898</td> <td> 0.000</td> <td>    1.744</td> <td>    2.208</td>\n",
       "</tr>\n",
       "</table>\n",
       "<table class=\"simpletable\">\n",
       "<tr>\n",
       "  <th>Omnibus:</th>       <td> 1.376</td> <th>  Durbin-Watson:     </th> <td>   2.184</td>\n",
       "</tr>\n",
       "<tr>\n",
       "  <th>Prob(Omnibus):</th> <td> 0.503</td> <th>  Jarque-Bera (JB):  </th> <td>   0.847</td>\n",
       "</tr>\n",
       "<tr>\n",
       "  <th>Skew:</th>          <td> 0.121</td> <th>  Prob(JB):          </th> <td>   0.655</td>\n",
       "</tr>\n",
       "<tr>\n",
       "  <th>Kurtosis:</th>      <td> 3.381</td> <th>  Cond. No.          </th> <td>    1.00</td>\n",
       "</tr>\n",
       "</table><br/><br/>Notes:<br/>[1] R² is computed without centering (uncentered) since the model does not contain a constant.<br/>[2] Standard Errors assume that the covariance matrix of the errors is correctly specified."
      ],
      "text/latex": [
       "\\begin{center}\n",
       "\\begin{tabular}{lclc}\n",
       "\\toprule\n",
       "\\textbf{Dep. Variable:}    &        y         & \\textbf{  R-squared (uncentered):}      &     0.743   \\\\\n",
       "\\textbf{Model:}            &       OLS        & \\textbf{  Adj. R-squared (uncentered):} &     0.740   \\\\\n",
       "\\textbf{Method:}           &  Least Squares   & \\textbf{  F-statistic:       }          &     285.6   \\\\\n",
       "\\textbf{Date:}             & Tue, 26 Nov 2024 & \\textbf{  Prob (F-statistic):}          &  6.23e-31   \\\\\n",
       "\\textbf{Time:}             &     16:51:47     & \\textbf{  Log-Likelihood:    }          &   -141.35   \\\\\n",
       "\\textbf{No. Observations:} &         100      & \\textbf{  AIC:               }          &     284.7   \\\\\n",
       "\\textbf{Df Residuals:}     &          99      & \\textbf{  BIC:               }          &     287.3   \\\\\n",
       "\\textbf{Df Model:}         &           1      & \\textbf{                     }          &             \\\\\n",
       "\\textbf{Covariance Type:}  &    nonrobust     & \\textbf{                     }          &             \\\\\n",
       "\\bottomrule\n",
       "\\end{tabular}\n",
       "\\begin{tabular}{lcccccc}\n",
       "           & \\textbf{coef} & \\textbf{std err} & \\textbf{t} & \\textbf{P$> |$t$|$} & \\textbf{[0.025} & \\textbf{0.975]}  \\\\\n",
       "\\midrule\n",
       "\\textbf{x} &       1.9762  &        0.117     &    16.898  &         0.000        &        1.744    &        2.208     \\\\\n",
       "\\bottomrule\n",
       "\\end{tabular}\n",
       "\\begin{tabular}{lclc}\n",
       "\\textbf{Omnibus:}       &  1.376 & \\textbf{  Durbin-Watson:     } &    2.184  \\\\\n",
       "\\textbf{Prob(Omnibus):} &  0.503 & \\textbf{  Jarque-Bera (JB):  } &    0.847  \\\\\n",
       "\\textbf{Skew:}          &  0.121 & \\textbf{  Prob(JB):          } &    0.655  \\\\\n",
       "\\textbf{Kurtosis:}      &  3.381 & \\textbf{  Cond. No.          } &     1.00  \\\\\n",
       "\\bottomrule\n",
       "\\end{tabular}\n",
       "%\\caption{OLS Regression Results}\n",
       "\\end{center}\n",
       "\n",
       "Notes: \\newline\n",
       " [1] R² is computed without centering (uncentered) since the model does not contain a constant. \\newline\n",
       " [2] Standard Errors assume that the covariance matrix of the errors is correctly specified."
      ],
      "text/plain": [
       "<class 'statsmodels.iolib.summary.Summary'>\n",
       "\"\"\"\n",
       "                                 OLS Regression Results                                \n",
       "=======================================================================================\n",
       "Dep. Variable:                      y   R-squared (uncentered):                   0.743\n",
       "Model:                            OLS   Adj. R-squared (uncentered):              0.740\n",
       "Method:                 Least Squares   F-statistic:                              285.6\n",
       "Date:                Tue, 26 Nov 2024   Prob (F-statistic):                    6.23e-31\n",
       "Time:                        16:51:47   Log-Likelihood:                         -141.35\n",
       "No. Observations:                 100   AIC:                                      284.7\n",
       "Df Residuals:                      99   BIC:                                      287.3\n",
       "Df Model:                           1                                                  \n",
       "Covariance Type:            nonrobust                                                  \n",
       "==============================================================================\n",
       "                 coef    std err          t      P>|t|      [0.025      0.975]\n",
       "------------------------------------------------------------------------------\n",
       "x              1.9762      0.117     16.898      0.000       1.744       2.208\n",
       "==============================================================================\n",
       "Omnibus:                        1.376   Durbin-Watson:                   2.184\n",
       "Prob(Omnibus):                  0.503   Jarque-Bera (JB):                0.847\n",
       "Skew:                           0.121   Prob(JB):                        0.655\n",
       "Kurtosis:                       3.381   Cond. No.                         1.00\n",
       "==============================================================================\n",
       "\n",
       "Notes:\n",
       "[1] R² is computed without centering (uncentered) since the model does not contain a constant.\n",
       "[2] Standard Errors assume that the covariance matrix of the errors is correctly specified.\n",
       "\"\"\""
      ]
     },
     "execution_count": 2,
     "metadata": {},
     "output_type": "execute_result"
    }
   ],
   "source": [
    "import statsmodels.formula.api as smf\n",
    "reg = smf.ols('y ~ x + 0', df).fit()\n",
    "reg.summary()"
   ]
  },
  {
   "cell_type": "markdown",
   "metadata": {},
   "source": [
    "From the table above, we see that the coefficient estimate $β^2=1.9762$ and the standard error of this coefficient estimate is 0.117. The t-statistic is equal to 16.898 and the p-value seem close to 0 (less than 0.0005). We can therefore reject the null hypothesis and conclude that there is evidence for a relationship between x and y."
   ]
  },
  {
   "cell_type": "code",
   "execution_count": 3,
   "metadata": {},
   "outputs": [
    {
     "data": {
      "text/html": [
       "<table class=\"simpletable\">\n",
       "<caption>OLS Regression Results</caption>\n",
       "<tr>\n",
       "  <th>Dep. Variable:</th>            <td>x</td>        <th>  R-squared (uncentered):</th>      <td>   0.743</td>\n",
       "</tr>\n",
       "<tr>\n",
       "  <th>Model:</th>                   <td>OLS</td>       <th>  Adj. R-squared (uncentered):</th> <td>   0.740</td>\n",
       "</tr>\n",
       "<tr>\n",
       "  <th>Method:</th>             <td>Least Squares</td>  <th>  F-statistic:       </th>          <td>   285.6</td>\n",
       "</tr>\n",
       "<tr>\n",
       "  <th>Date:</th>             <td>Tue, 26 Nov 2024</td> <th>  Prob (F-statistic):</th>          <td>6.23e-31</td>\n",
       "</tr>\n",
       "<tr>\n",
       "  <th>Time:</th>                 <td>16:51:47</td>     <th>  Log-Likelihood:    </th>          <td> -58.349</td>\n",
       "</tr>\n",
       "<tr>\n",
       "  <th>No. Observations:</th>      <td>   100</td>      <th>  AIC:               </th>          <td>   118.7</td>\n",
       "</tr>\n",
       "<tr>\n",
       "  <th>Df Residuals:</th>          <td>    99</td>      <th>  BIC:               </th>          <td>   121.3</td>\n",
       "</tr>\n",
       "<tr>\n",
       "  <th>Df Model:</th>              <td>     1</td>      <th>                     </th>              <td> </td>   \n",
       "</tr>\n",
       "<tr>\n",
       "  <th>Covariance Type:</th>      <td>nonrobust</td>    <th>                     </th>              <td> </td>   \n",
       "</tr>\n",
       "</table>\n",
       "<table class=\"simpletable\">\n",
       "<tr>\n",
       "  <td></td>     <th>coef</th>     <th>std err</th>      <th>t</th>      <th>P>|t|</th>  <th>[0.025</th>    <th>0.975]</th>  \n",
       "</tr>\n",
       "<tr>\n",
       "  <th>y</th> <td>    0.3757</td> <td>    0.022</td> <td>   16.898</td> <td> 0.000</td> <td>    0.332</td> <td>    0.420</td>\n",
       "</tr>\n",
       "</table>\n",
       "<table class=\"simpletable\">\n",
       "<tr>\n",
       "  <th>Omnibus:</th>       <td>13.156</td> <th>  Durbin-Watson:     </th> <td>   2.034</td>\n",
       "</tr>\n",
       "<tr>\n",
       "  <th>Prob(Omnibus):</th> <td> 0.001</td> <th>  Jarque-Bera (JB):  </th> <td>  22.596</td>\n",
       "</tr>\n",
       "<tr>\n",
       "  <th>Skew:</th>          <td>-0.528</td> <th>  Prob(JB):          </th> <td>1.24e-05</td>\n",
       "</tr>\n",
       "<tr>\n",
       "  <th>Kurtosis:</th>      <td> 5.075</td> <th>  Cond. No.          </th> <td>    1.00</td>\n",
       "</tr>\n",
       "</table><br/><br/>Notes:<br/>[1] R² is computed without centering (uncentered) since the model does not contain a constant.<br/>[2] Standard Errors assume that the covariance matrix of the errors is correctly specified."
      ],
      "text/latex": [
       "\\begin{center}\n",
       "\\begin{tabular}{lclc}\n",
       "\\toprule\n",
       "\\textbf{Dep. Variable:}    &        x         & \\textbf{  R-squared (uncentered):}      &     0.743   \\\\\n",
       "\\textbf{Model:}            &       OLS        & \\textbf{  Adj. R-squared (uncentered):} &     0.740   \\\\\n",
       "\\textbf{Method:}           &  Least Squares   & \\textbf{  F-statistic:       }          &     285.6   \\\\\n",
       "\\textbf{Date:}             & Tue, 26 Nov 2024 & \\textbf{  Prob (F-statistic):}          &  6.23e-31   \\\\\n",
       "\\textbf{Time:}             &     16:51:47     & \\textbf{  Log-Likelihood:    }          &   -58.349   \\\\\n",
       "\\textbf{No. Observations:} &         100      & \\textbf{  AIC:               }          &     118.7   \\\\\n",
       "\\textbf{Df Residuals:}     &          99      & \\textbf{  BIC:               }          &     121.3   \\\\\n",
       "\\textbf{Df Model:}         &           1      & \\textbf{                     }          &             \\\\\n",
       "\\textbf{Covariance Type:}  &    nonrobust     & \\textbf{                     }          &             \\\\\n",
       "\\bottomrule\n",
       "\\end{tabular}\n",
       "\\begin{tabular}{lcccccc}\n",
       "           & \\textbf{coef} & \\textbf{std err} & \\textbf{t} & \\textbf{P$> |$t$|$} & \\textbf{[0.025} & \\textbf{0.975]}  \\\\\n",
       "\\midrule\n",
       "\\textbf{y} &       0.3757  &        0.022     &    16.898  &         0.000        &        0.332    &        0.420     \\\\\n",
       "\\bottomrule\n",
       "\\end{tabular}\n",
       "\\begin{tabular}{lclc}\n",
       "\\textbf{Omnibus:}       & 13.156 & \\textbf{  Durbin-Watson:     } &    2.034  \\\\\n",
       "\\textbf{Prob(Omnibus):} &  0.001 & \\textbf{  Jarque-Bera (JB):  } &   22.596  \\\\\n",
       "\\textbf{Skew:}          & -0.528 & \\textbf{  Prob(JB):          } & 1.24e-05  \\\\\n",
       "\\textbf{Kurtosis:}      &  5.075 & \\textbf{  Cond. No.          } &     1.00  \\\\\n",
       "\\bottomrule\n",
       "\\end{tabular}\n",
       "%\\caption{OLS Regression Results}\n",
       "\\end{center}\n",
       "\n",
       "Notes: \\newline\n",
       " [1] R² is computed without centering (uncentered) since the model does not contain a constant. \\newline\n",
       " [2] Standard Errors assume that the covariance matrix of the errors is correctly specified."
      ],
      "text/plain": [
       "<class 'statsmodels.iolib.summary.Summary'>\n",
       "\"\"\"\n",
       "                                 OLS Regression Results                                \n",
       "=======================================================================================\n",
       "Dep. Variable:                      x   R-squared (uncentered):                   0.743\n",
       "Model:                            OLS   Adj. R-squared (uncentered):              0.740\n",
       "Method:                 Least Squares   F-statistic:                              285.6\n",
       "Date:                Tue, 26 Nov 2024   Prob (F-statistic):                    6.23e-31\n",
       "Time:                        16:51:47   Log-Likelihood:                         -58.349\n",
       "No. Observations:                 100   AIC:                                      118.7\n",
       "Df Residuals:                      99   BIC:                                      121.3\n",
       "Df Model:                           1                                                  \n",
       "Covariance Type:            nonrobust                                                  \n",
       "==============================================================================\n",
       "                 coef    std err          t      P>|t|      [0.025      0.975]\n",
       "------------------------------------------------------------------------------\n",
       "y              0.3757      0.022     16.898      0.000       0.332       0.420\n",
       "==============================================================================\n",
       "Omnibus:                       13.156   Durbin-Watson:                   2.034\n",
       "Prob(Omnibus):                  0.001   Jarque-Bera (JB):               22.596\n",
       "Skew:                          -0.528   Prob(JB):                     1.24e-05\n",
       "Kurtosis:                       5.075   Cond. No.                         1.00\n",
       "==============================================================================\n",
       "\n",
       "Notes:\n",
       "[1] R² is computed without centering (uncentered) since the model does not contain a constant.\n",
       "[2] Standard Errors assume that the covariance matrix of the errors is correctly specified.\n",
       "\"\"\""
      ]
     },
     "execution_count": 3,
     "metadata": {},
     "output_type": "execute_result"
    }
   ],
   "source": [
    "reg = smf.ols('x ~ y + 0', df).fit()\n",
    "reg.summary()"
   ]
  },
  {
   "cell_type": "markdown",
   "metadata": {},
   "source": [
    "From the table above, we see that the coefficient estimate $β^2=0.3757$ and the standard error of this coefficient estimate is 0.022. The t-statistic is equal to 16.898 and the p-value is close to 0 (less than 0.0005). We can therefore reject the null hypothesis and conclude that there is evidence for a relationship between x and y."
   ]
  },
  {
   "cell_type": "markdown",
   "metadata": {},
   "source": [
    "As we can see from the two tables above, the t-statistics are the same, which means that the p-values are the same (we will see later why). Perhaps surprisingly, the coefficient estimates are not the inverse of each other. That is, $\\hat{\\beta}_y \\neq 1/\\hat{\\beta}_x$, where $\\hat{\\beta}_y$ and $\\hat{\\beta}_x$ are the coefficients of the models $Y=\\hat{\\beta}_xX$ and $X=\\hat{\\beta}_y Y$, respectively. We know $\\hat{\\beta}_x ≃2$, but $\\hat{\\beta}_y$ seems to be closer to 0.4 than 0.5. What is going on here?"
   ]
  },
  {
   "cell_type": "markdown",
   "metadata": {},
   "source": [
    "The short answer: it has to do with the fitting method and with the non-symmetric loss function."
   ]
  },
  {
   "cell_type": "markdown",
   "metadata": {},
   "source": [
    "The coefficient estimates are the values that minimize the loss functions of ordinary least squares for these linear models without intercept, which leads to:\n",
    "\n",
    "$\n",
    "\\hat{\\beta}_x = \\arg\\min_\\beta \\sum (y_i - \\beta x_i)^2 = \\frac{\\sum y_i x_i}{\\sum x_i^2} \n",
    "= \\left( \\frac{\\mathbb{E}[XY]}{\\mathbb{E}[X^2]} = \\frac{\\mathbb{E}[XY] - \\mathbb{E}[X]\\mathbb{E}[Y]}{\\mathbb{E}[(X - \\mathbb{E}[X])^2]} = \\frac{\\text{cov}(X, Y)}{\\text{var}(X)} \\right),\n",
    "$\n",
    "\n",
    "$\n",
    "\\hat{\\beta}_y = \\arg\\min_\\beta \\sum (x_i - \\beta y_i)^2 = \\frac{\\sum y_i x_i}{\\sum y_i^2} \n",
    "= \\left( \\frac{\\mathbb{E}[XY]}{\\mathbb{E}[Y^2]} = \\frac{\\mathbb{E}[XY] - \\mathbb{E}[X]\\mathbb{E}[Y]}{\\mathbb{E}[(Y - \\mathbb{E}[Y])^2]} = \\frac{\\text{cov}(X, Y)}{\\text{var}(Y)} \\right),\n",
    "$"
   ]
  },
  {
   "cell_type": "markdown",
   "metadata": {},
   "source": [
    "Since $ \\mathbb{E}[X] = \\mathbb{E}[Y] = 0$"
   ]
  },
  {
   "cell_type": "markdown",
   "metadata": {},
   "source": [
    "We know that the $ \\text{var}(X) = 1$, so that $\\text{var}(Y) = \\text{var}(2X + \\epsilon) = 4 \\, \\text{var}(X) + \\text{var}(\\epsilon) = 4(1) + 1 = 5$"
   ]
  },
  {
   "cell_type": "markdown",
   "metadata": {},
   "source": [
    "Since : $\\sum y_i x_i = \\sum (2x_i + \\epsilon_i)x_i = 2 \\sum x_i^2 + \\sum x_i \\epsilon_i \\sim 2 \\sum x_i^2$"
   ]
  },
  {
   "cell_type": "markdown",
   "metadata": {},
   "source": [
    "So $\\hat{\\beta}_x \\sim 2/1 = 2$  and $\\hat{\\beta}_y \\sim 2/5 = 0.4$"
   ]
  },
  {
   "cell_type": "markdown",
   "metadata": {},
   "source": [
    "Now we are going to show why the t-statistic is the same."
   ]
  },
  {
   "cell_type": "markdown",
   "metadata": {},
   "source": [
    "We have :  $\\sum_{i=1}^{n} (y_i - x_i \\beta)^2 = \\sum_{i=1}^{n} (y_i^2 - 2 x_i y_i \\beta + x_i^2 \\beta^2) = \\sum_{i=1}^{n} y_i^2 - 2 \\beta \\sum_{i=1}^{n} x_i y_i + \\beta^2 \\sum_{i=1}^{n} x_i^2$"
   ]
  },
  {
   "cell_type": "markdown",
   "metadata": {},
   "source": [
    "We also have $\\hat{\\beta}=  \\sum_{i=1}^{n}x_i y_i / \\sum_{j=1}^{n}x_j^2$ so : $  \\sum_{i=1}^{n} (y_i - x_i \\beta)^2 = \\sum_{i=1}^{n} y_i^2 - 2 \\frac{(\\sum_{i=1}^{n} x_i y_i)^2}{\\sum_{j=1}^{n} x_j^2 } + \\frac{(\\sum_{i=1}^{n} x_i y_i)^2}{\\sum_{j=1}^{n} x_j^2 } = \\sum_{i=1}^{n} y_i^2 - \\frac{(\\sum_{i=1}^{n} x_i y_i)^2}{\\sum_{i=1}^{n} x_i^2 }.$"
   ]
  },
  {
   "cell_type": "markdown",
   "metadata": {},
   "source": [
    "With this, we restart from the formula for the t-statistic and simplify:"
   ]
  },
  {
   "cell_type": "markdown",
   "metadata": {},
   "source": [
    "$t= \\frac{\\hat{\\beta}}{SE(\\hat{\\beta})}$\n",
    "\n",
    "With = $SE(\\hat{\\beta}) = \\sqrt{\\frac{\\sum_{i=1}^{n} (y_i - x_i \\hat{\\beta})^2}{(n-1)\\sum_{i'=1}^{n}x_{i'}^2}}$\n",
    "\n",
    "So $t = \\frac{(\\sum_{i=1}^{n} x_i y_i) \\sqrt{n-1} \\sqrt{\\sum_{i=1}^{n} x_i^2} }{ ( \\sum_{i=1}^{n} x_i^2 ) \\sqrt{\\sum_{i=1}^{n} (y_i - x_i \\beta)^2}} = \\frac{(\\sum_{i=1}^{n} x_i y_i) \\sqrt{n-1} }{ \\sqrt{ (\\sum_{i=1}^{n} x_i^2 ) \\sum_{i=1}^{n} (y_i - x_i \\beta)^2}}$"
   ]
  },
  {
   "cell_type": "markdown",
   "metadata": {},
   "source": [
    "where we now substitute our previous simplification in the denominator:\n",
    "\n",
    "$ \\frac{(\\sum_{i=1}^{n} x_i y_i) \\sqrt{n-1} }{ \\sqrt{ (\\sum_{i=1}^{n} x_i^2 ) \\left( \\sum_{i=1}^{n} y_i^2 - \\frac{(\\sum_{i=1}^{n} x_i y_i)^2}{\\sum_{i=1}^{n} x_i^2 } \\right)}} = \\frac{ (\\sqrt{n-1} ) \\sum_{i=1}^{n} x_i y_i }{ \\sqrt{ (\\sum_{i=1}^{n} x_i^2 )( \\sum_{i=1}^{n} y_i^2 ) - (\\sum_{i=1}^{n} x_i y_i)^2 } }$"
   ]
  },
  {
   "cell_type": "markdown",
   "metadata": {},
   "source": [
    "Since the expression for the t-statistic is symmetric in $x_i and $y_i$, it will have the same value whether we regress $Y$ on $X$ or $X$ on $Y$"
   ]
  },
  {
   "cell_type": "code",
   "execution_count": 4,
   "metadata": {},
   "outputs": [
    {
     "name": "stdout",
     "output_type": "stream",
     "text": [
      "Intercept    -0.756096\n",
      "x            16.734055\n",
      "dtype: float64\n",
      "Intercept     0.216082\n",
      "y            16.734055\n",
      "dtype: float64\n"
     ]
    }
   ],
   "source": [
    "regyx = smf.ols('y ~ x', df).fit()\n",
    "regxy = smf.ols('x ~ y', df).fit()\n",
    "print(regyx.tvalues)\n",
    "print(regxy.tvalues)"
   ]
  },
  {
   "cell_type": "markdown",
   "metadata": {},
   "source": [
    "We have an example with python."
   ]
  }
 ],
 "metadata": {
  "kernelspec": {
   "display_name": "Python 3",
   "language": "python",
   "name": "python3"
  },
  "language_info": {
   "codemirror_mode": {
    "name": "ipython",
    "version": 3
   },
   "file_extension": ".py",
   "mimetype": "text/x-python",
   "name": "python",
   "nbconvert_exporter": "python",
   "pygments_lexer": "ipython3",
   "version": "3.8.20"
  }
 },
 "nbformat": 4,
 "nbformat_minor": 2
}
